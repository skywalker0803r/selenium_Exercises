{
 "cells": [
  {
   "cell_type": "code",
   "execution_count": 2,
   "id": "a226238b",
   "metadata": {},
   "outputs": [
    {
     "name": "stdout",
     "output_type": "stream",
     "text": [
      "Google\n"
     ]
    }
   ],
   "source": [
    "from selenium import webdriver\n",
    "\n",
    "# Selenium 4.6+ automatically manages the driver\n",
    "driver = webdriver.Chrome()\n",
    "driver.get(\"https://www.google.com\")\n",
    "print(driver.title)\n",
    "driver.quit()"
   ]
  },
  {
   "cell_type": "code",
   "execution_count": null,
   "id": "a77ecf56",
   "metadata": {},
   "outputs": [
    {
     "name": "stdout",
     "output_type": "stream",
     "text": [
      "{'_ga': 'GA1.1.1720236437.1747553105', 'over18': '1', 'cf_clearance': '0RFc1UQ10RN73ViwQiYWU19woItpEnNmd53zeNbO_MY-1747553106-1.2.1.1-GSuxuDG9qr_9_7660q2J9JLAe_fMUEaMsDqir809A96DWecHbAFpE_Cmt.KWPeCSUVF4toKF0NZtDXraov6Me8LVUQGtWqZGlpuYucu5iVCIXNczlJHlRzvp5aA9xLb3EK5UJ5ZwlbWfAz1fj5JG66RXEgp2WuB6GlmpQzTvWYhN0hif4mdtXMJWDp3Yk2thr6hdECnjNzPG2hRdXLJiG1hL0hTBUmlgyTOvXTKkqv2WlJZqpjKd5c2QLdcFZnXKJenlnlDVIttKv.OfbiaNhAgtzI3vkexMik4S5y1CFcdvIo6TJQxUJFZv6HyJAF1m78XXWYWAuPbj7.gGQaIkmkI7TB4bGIYTz_vd43yfVlQ', '_gat': '1', '_ga_DZ6Y3BY9GW': 'GS2.1.s1747553104$o1$g1$t1747553107$j0$l0$h0', '_gid': 'GA1.2.1600623902.1747553105'}\n"
     ]
    }
   ],
   "source": [
    "from selenium import webdriver\n",
    "from selenium.webdriver.common.by import By\n",
    "import time\n",
    "\n",
    "chrome_options = webdriver.ChromeOptions()\n",
    "chrome_options.add_argument(\"--no-sandbox\")\n",
    "chrome_options.add_argument(\"disable-extensions\")\n",
    "chrome_options.add_argument(\"--disable-gpu\")\n",
    "chrome_options.add_argument(\"window-size=1080,720\")\n",
    "chrome_options.add_argument(\"--ignore-certificate-errors\")\n",
    "chrome_options.add_argument(\"--allow-insecure-localhost\")\n",
    "chrome_options.add_argument(\"--headless\")\n",
    "\n",
    "driver = webdriver.Remote(\n",
    "    command_executor=\"http://10.1.15.139:14444/wd/hub\",\n",
    "    options=chrome_options,\n",
    ")\n",
    "\n",
    "\n",
    "url = \"https://www.ptt.cc/bbs/index.html\"\n",
    "\n",
    "driver.get(url)\n",
    "title = 'Gossiping'\n",
    "driver.find_element(By.PARTIAL_LINK_TEXT,value=title).click()\n",
    "\n",
    "button_xpath = '/html/body/div[2]/form/div[1]/button'\n",
    "driver.find_element(By.XPATH,value=button_xpath).click()\n",
    "\n",
    "cookies = {\n",
    "    cookie_set[\"name\"]: cookie_set[\"value\"]\n",
    "    for cookie_set in driver.get_cookies()\n",
    "}\n",
    "print(cookies)\n",
    "\n",
    "time.sleep(5)\n",
    "driver.quit()"
   ]
  },
  {
   "cell_type": "code",
   "execution_count": null,
   "id": "bdc8489e",
   "metadata": {},
   "outputs": [],
   "source": []
  }
 ],
 "metadata": {
  "kernelspec": {
   "display_name": "base",
   "language": "python",
   "name": "python3"
  },
  "language_info": {
   "codemirror_mode": {
    "name": "ipython",
    "version": 3
   },
   "file_extension": ".py",
   "mimetype": "text/x-python",
   "name": "python",
   "nbconvert_exporter": "python",
   "pygments_lexer": "ipython3",
   "version": "3.12.7"
  }
 },
 "nbformat": 4,
 "nbformat_minor": 5
}
